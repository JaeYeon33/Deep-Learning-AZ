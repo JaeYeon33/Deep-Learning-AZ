{
  "nbformat": 4,
  "nbformat_minor": 0,
  "metadata": {
    "colab": {
      "name": "artificial_neural_network.ipynb",
      "provenance": [],
      "collapsed_sections": [],
      "toc_visible": true,
      "authorship_tag": "ABX9TyP/weLVPOMW4yQlbhd4x9Sz",
      "include_colab_link": true
    },
    "kernelspec": {
      "name": "python3",
      "display_name": "Python 3"
    },
    "language_info": {
      "name": "python"
    },
    "accelerator": "GPU"
  },
  "cells": [
    {
      "cell_type": "markdown",
      "metadata": {
        "id": "view-in-github",
        "colab_type": "text"
      },
      "source": [
        "<a href=\"https://colab.research.google.com/github/JaeYeon33/Deep-Learning-AZ/blob/main/artificial_neural_network.ipynb\" target=\"_parent\"><img src=\"https://colab.research.google.com/assets/colab-badge.svg\" alt=\"Open In Colab\"/></a>"
      ]
    },
    {
      "cell_type": "markdown",
      "metadata": {
        "id": "o1A8jpWgu8x-"
      },
      "source": [
        "# Artificial Neural Network"
      ]
    },
    {
      "cell_type": "markdown",
      "metadata": {
        "id": "pBXFLPnlvOyY"
      },
      "source": [
        "## Importing the libraries"
      ]
    },
    {
      "cell_type": "code",
      "metadata": {
        "id": "5K1We3dFvivR"
      },
      "source": [
        "import numpy as np\n",
        "import pandas as pd\n",
        "import tensorflow as tf"
      ],
      "execution_count": 2,
      "outputs": []
    },
    {
      "cell_type": "code",
      "metadata": {
        "colab": {
          "base_uri": "https://localhost:8080/",
          "height": 37
        },
        "id": "QxSj7SQsvmA4",
        "outputId": "e0df71e1-d3bd-422f-dc6c-09dcbd8a8c0f"
      },
      "source": [
        "tf.__version__"
      ],
      "execution_count": 3,
      "outputs": [
        {
          "output_type": "execute_result",
          "data": {
            "application/vnd.google.colaboratory.intrinsic+json": {
              "type": "string"
            },
            "text/plain": [
              "'2.4.1'"
            ]
          },
          "metadata": {
            "tags": []
          },
          "execution_count": 3
        }
      ]
    },
    {
      "cell_type": "markdown",
      "metadata": {
        "id": "v85yYIT6vpZB"
      },
      "source": [
        "## Part 1 - Data Preprocessing"
      ]
    },
    {
      "cell_type": "markdown",
      "metadata": {
        "id": "Z3IAcPMevs0W"
      },
      "source": [
        "### Importing the dataset"
      ]
    },
    {
      "cell_type": "code",
      "metadata": {
        "colab": {
          "base_uri": "https://localhost:8080/"
        },
        "id": "eadiUVa6wREV",
        "outputId": "15e76882-9a28-4bce-e958-a8348d1bdfdc"
      },
      "source": [
        "from google.colab import drive\n",
        "drive.mount('/content/drive')"
      ],
      "execution_count": 4,
      "outputs": [
        {
          "output_type": "stream",
          "text": [
            "Mounted at /content/drive\n"
          ],
          "name": "stdout"
        }
      ]
    },
    {
      "cell_type": "code",
      "metadata": {
        "id": "JwpHmKh0vvZW"
      },
      "source": [
        "dataset = pd.read_csv('/content/drive/MyDrive/Udemy/Part 8 - Deep Learning/Section 39 - Artificial Neural Network (ANN)/Churn_Modelling.csv')\n",
        "X = dataset.iloc[:, 3:-1].values\n",
        "y = dataset.iloc[:, -1].values"
      ],
      "execution_count": 44,
      "outputs": []
    },
    {
      "cell_type": "code",
      "metadata": {
        "colab": {
          "base_uri": "https://localhost:8080/"
        },
        "id": "YMcaN1vpv4YA",
        "outputId": "093b72a3-bbd4-4a2a-bd95-e65589c8d874"
      },
      "source": [
        "print(X)"
      ],
      "execution_count": 13,
      "outputs": [
        {
          "output_type": "stream",
          "text": [
            "[[619 'France' 'Female' ... 1 1 101348.88]\n",
            " [608 'Spain' 'Female' ... 0 1 112542.58]\n",
            " [502 'France' 'Female' ... 1 0 113931.57]\n",
            " ...\n",
            " [709 'France' 'Female' ... 0 1 42085.58]\n",
            " [772 'Germany' 'Male' ... 1 0 92888.52]\n",
            " [792 'France' 'Female' ... 1 0 38190.78]]\n"
          ],
          "name": "stdout"
        }
      ]
    },
    {
      "cell_type": "markdown",
      "metadata": {
        "id": "YIrr64nf79Lt"
      },
      "source": [
        "These are all the desicions of the customers to stay or leave in the bank."
      ]
    },
    {
      "cell_type": "code",
      "metadata": {
        "colab": {
          "base_uri": "https://localhost:8080/"
        },
        "id": "3HK6GuDxww-d",
        "outputId": "2f165559-fcc6-47d4-f62e-cd3b163a03f3"
      },
      "source": [
        "print(y)"
      ],
      "execution_count": 45,
      "outputs": [
        {
          "output_type": "stream",
          "text": [
            "[1 0 1 ... 1 1 0]\n"
          ],
          "name": "stdout"
        }
      ]
    },
    {
      "cell_type": "markdown",
      "metadata": {
        "id": "FDrgLax37Y6G"
      },
      "source": [
        "### Encoding categorical data"
      ]
    },
    {
      "cell_type": "markdown",
      "metadata": {
        "id": "iR_Nx1Qz8TMM"
      },
      "source": [
        "Label Encoding the \"Gender\" column\n"
      ]
    },
    {
      "cell_type": "markdown",
      "metadata": {
        "id": "KzVbKPAN9SEq"
      },
      "source": [
        "we want to do it on this specific column of the matrix of Features X and therefore, what we only need to replace here is this Y by that specific column of the matrix of features, X to which we want to apply label encoding."
      ]
    },
    {
      "cell_type": "code",
      "metadata": {
        "id": "78gMwyRf8xDG"
      },
      "source": [
        "from sklearn.preprocessing import LabelEncoder\n",
        "le = LabelEncoder()\n",
        "X[:, 2] = le.fit_transform(x[:, 2])"
      ],
      "execution_count": 46,
      "outputs": []
    },
    {
      "cell_type": "markdown",
      "metadata": {
        "id": "5ygb8APB-U1s"
      },
      "source": [
        "- Female : 0\n",
        "- Male : 1"
      ]
    },
    {
      "cell_type": "code",
      "metadata": {
        "id": "zJYQXPr19CDu",
        "colab": {
          "base_uri": "https://localhost:8080/"
        },
        "outputId": "cb99f7c5-edca-4a2c-b5fd-89e1f6721822"
      },
      "source": [
        "print(X)"
      ],
      "execution_count": 47,
      "outputs": [
        {
          "output_type": "stream",
          "text": [
            "[[619 'France' 0 ... 1 1 101348.88]\n",
            " [608 'Spain' 0 ... 0 1 112542.58]\n",
            " [502 'France' 0 ... 1 0 113931.57]\n",
            " ...\n",
            " [709 'France' 0 ... 0 1 42085.58]\n",
            " [772 'Germany' 1 ... 1 0 92888.52]\n",
            " [792 'France' 0 ... 1 0 38190.78]]\n"
          ],
          "name": "stdout"
        }
      ]
    },
    {
      "cell_type": "markdown",
      "metadata": {
        "id": "VGYAaENb9_aG"
      },
      "source": [
        "One Hot Encoding the \"Geography\" column"
      ]
    },
    {
      "cell_type": "code",
      "metadata": {
        "id": "nXg5CIjA-rMV"
      },
      "source": [
        "from sklearn.compose import ColumnTransformer\n",
        "from sklearn.preprocessing import OneHotEncoder\n",
        "ct = ColumnTransformer(transformers=[('encoder', OneHotEncoder(), [1])], remainder='passthrough')\n",
        "X = np.array(ct.fit_transform(X))"
      ],
      "execution_count": 48,
      "outputs": []
    },
    {
      "cell_type": "code",
      "metadata": {
        "colab": {
          "base_uri": "https://localhost:8080/"
        },
        "id": "Ojrjqcd4_J-x",
        "outputId": "c7c799bd-1293-4803-d0a5-bfdf87b295ee"
      },
      "source": [
        "print(X)"
      ],
      "execution_count": 49,
      "outputs": [
        {
          "output_type": "stream",
          "text": [
            "[[1.0 0.0 0.0 ... 1 1 101348.88]\n",
            " [0.0 0.0 1.0 ... 0 1 112542.58]\n",
            " [1.0 0.0 0.0 ... 1 0 113931.57]\n",
            " ...\n",
            " [1.0 0.0 0.0 ... 0 1 42085.58]\n",
            " [0.0 1.0 0.0 ... 1 0 92888.52]\n",
            " [1.0 0.0 0.0 ... 1 0 38190.78]]\n"
          ],
          "name": "stdout"
        }
      ]
    },
    {
      "cell_type": "markdown",
      "metadata": {
        "id": "ucdl6HbM_sQp"
      },
      "source": [
        "### Splitting the dataset into the Training set and Test set"
      ]
    },
    {
      "cell_type": "code",
      "metadata": {
        "id": "6UBJIUofAisP"
      },
      "source": [
        "from sklearn.model_selection import train_test_split\n",
        "X_train, X_test, y_train, y_test = train_test_split(X, y, test_size = 0.2, random_state = 0)"
      ],
      "execution_count": 50,
      "outputs": []
    },
    {
      "cell_type": "markdown",
      "metadata": {
        "id": "5vyt5FvfAxaU"
      },
      "source": [
        "### Feature Scaling"
      ]
    },
    {
      "cell_type": "markdown",
      "metadata": {
        "id": "1yTiHhcbA46S"
      },
      "source": [
        "Feature Scaling is absolutely compulsory for deep learning\n",
        "\n",
        "Whenever you build an Artificial Neural Network, you have to apply feature scaling."
      ]
    },
    {
      "cell_type": "markdown",
      "metadata": {
        "id": "il0SwhxeB2zI"
      },
      "source": [
        "We will take that full scale and we will based it right back in a new code sale just below Fichus killing will pace it here and now instead of selecting some specific indexes here, we'll just take everything.\n",
        "\n",
        "So I'm just removing all our index selections here."
      ]
    },
    {
      "cell_type": "code",
      "metadata": {
        "id": "-vLAoOPjBJK0"
      },
      "source": [
        "from sklearn.preprocessing import StandardScaler\n",
        "sc = StandardScaler()\n",
        "X_train = sc.fit_transform(X_train)\n",
        "X_test = sc.transform(X_test)"
      ],
      "execution_count": 51,
      "outputs": []
    },
    {
      "cell_type": "markdown",
      "metadata": {
        "id": "V1LoAS5OBh0M"
      },
      "source": [
        "## Part 2 - Building the ANN"
      ]
    },
    {
      "cell_type": "markdown",
      "metadata": {
        "id": "mcT2th9bCeN_"
      },
      "source": [
        "### Initializing the ANN"
      ]
    },
    {
      "cell_type": "markdown",
      "metadata": {
        "id": "SsWpzOSzDDRD"
      },
      "source": [
        "So the first thing we have to do is obviously to create a variable that will be nothing else than the artificial neural network itself."
      ]
    },
    {
      "cell_type": "code",
      "metadata": {
        "id": "LR272QBmDQp6"
      },
      "source": [
        "ann = tf.keras.models.Sequential()"
      ],
      "execution_count": 52,
      "outputs": []
    },
    {
      "cell_type": "markdown",
      "metadata": {
        "id": "uzmamWLsCvMY"
      },
      "source": [
        "### Adding the input layer and the first hidden layer"
      ]
    },
    {
      "cell_type": "code",
      "metadata": {
        "id": "GNV0gqU8EB2W"
      },
      "source": [
        "ann.add(tf.keras.layers.Dense(units=6, activation='relu'))"
      ],
      "execution_count": 53,
      "outputs": []
    },
    {
      "cell_type": "markdown",
      "metadata": {
        "id": "EPdmikKrC1g1"
      },
      "source": [
        "### Adding the second hidden layer"
      ]
    },
    {
      "cell_type": "code",
      "metadata": {
        "id": "avXwaPEnFSq9"
      },
      "source": [
        "ann.add(tf.keras.layers.Dense(units=6, activation='relu'))"
      ],
      "execution_count": 54,
      "outputs": []
    },
    {
      "cell_type": "markdown",
      "metadata": {
        "id": "kMzh1TRMC5jk"
      },
      "source": [
        "### Adding the output layer"
      ]
    },
    {
      "cell_type": "markdown",
      "metadata": {
        "id": "wpQ8g6lGGNo_"
      },
      "source": [
        "Remembering the intuition, lecture's that for the activation function of the output layer. While you don't want to have a rectifier activation function but a sigmoid activation function. \n",
        "\n",
        "It's because having a sigmoid activation function allows to get not only ultimately the predictions, but even better.\n",
        "\n",
        "It will give you the probabilities that the binary outcome is one.\n",
        "\n",
        "So that we will not only et the predictions of whether the customers choose to leave or not the bank.\n",
        "\n",
        "But we will also have for each customer the probability that the customer leaves the bank.\n",
        "\n",
        "And all this thanks to that sigmoid activation function.\n",
        "\n",
        "So you definitely want that sigmoid activation function for the output layer."
      ]
    },
    {
      "cell_type": "code",
      "metadata": {
        "id": "grxUhvi7C7Yr"
      },
      "source": [
        "ann.add(tf.keras.layers.Dense(units=1, activation='sigmoid'))"
      ],
      "execution_count": 55,
      "outputs": []
    },
    {
      "cell_type": "markdown",
      "metadata": {
        "id": "1aOrRgE3HOjX"
      },
      "source": [
        "## Part 3 - Training the ANN"
      ]
    },
    {
      "cell_type": "markdown",
      "metadata": {
        "id": "MwVV9IYHHlGZ"
      },
      "source": [
        "### Compiling the ANN"
      ]
    },
    {
      "cell_type": "markdown",
      "metadata": {
        "id": "bUL62iKZJai7"
      },
      "source": [
        "Optimizer here will update the weights through stochastic gradient descent because we're going to choose Adam Optimizer to add the next iteration, hopefully reduce the loss.\n",
        "\n",
        "So that's why right here we have to choose an optimizer, but also lost function, which is the way to compute the difference between the predictions and the real result.\n",
        "\n",
        "And then the accuracy, of course, because that's our final evalution metric. \n",
        "\n",
        "So as we said, we're going to choose the Adam optimizer.\n",
        "\n"
      ]
    },
    {
      "cell_type": "markdown",
      "metadata": {
        "id": "-t65tfpiKlVM"
      },
      "source": [
        "What you would have to enter if you were doing non binary classification. You know, like, for example, redicting three different categories. \n",
        "\n",
        "\n",
        "For binary classification, the laws must be binary cross entropy and for non binary classification, the laws must be categorical. \n",
        "\n",
        "\n",
        "Cross entropy and then also, you knwo, entering non binary classification.\n",
        "\n",
        "\n",
        "When predicting more than two categories. the activation should not be sigmoid. But softmax.\n",
        "\n"
      ]
    },
    {
      "cell_type": "markdown",
      "metadata": {
        "id": "Lp4UGMWcLcOI"
      },
      "source": [
        "We can actually choose several metrics at the same time. \n",
        "\n",
        "\n",
        "Therefore, in order to enter the values of this parameter, we have to enter them in a pair of square brackets."
      ]
    },
    {
      "cell_type": "code",
      "metadata": {
        "id": "6fHz9sEWILOx"
      },
      "source": [
        "ann.compile(optimizer = 'adam' , loss = 'binary_crossentropy', metrics = ['accuracy'])"
      ],
      "execution_count": 56,
      "outputs": []
    },
    {
      "cell_type": "markdown",
      "metadata": {
        "id": "kjfriQIuH5sn"
      },
      "source": [
        "### Training the ANN on the Training set"
      ]
    },
    {
      "cell_type": "code",
      "metadata": {
        "colab": {
          "base_uri": "https://localhost:8080/"
        },
        "id": "i3aE-LbrH8ZY",
        "outputId": "1c142c63-7cc1-4262-d333-62381dc998c1"
      },
      "source": [
        "ann.fit(X_train, y_train, batch_size = 32, epochs = 100)"
      ],
      "execution_count": 57,
      "outputs": [
        {
          "output_type": "stream",
          "text": [
            "Epoch 1/100\n",
            "250/250 [==============================] - 1s 2ms/step - loss: 0.5705 - accuracy: 0.7897\n",
            "Epoch 2/100\n",
            "250/250 [==============================] - 0s 2ms/step - loss: 0.4882 - accuracy: 0.7982\n",
            "Epoch 3/100\n",
            "250/250 [==============================] - 0s 2ms/step - loss: 0.4597 - accuracy: 0.8004\n",
            "Epoch 4/100\n",
            "250/250 [==============================] - 0s 2ms/step - loss: 0.4587 - accuracy: 0.7951\n",
            "Epoch 5/100\n",
            "250/250 [==============================] - 0s 2ms/step - loss: 0.4551 - accuracy: 0.7915\n",
            "Epoch 6/100\n",
            "250/250 [==============================] - 0s 2ms/step - loss: 0.4325 - accuracy: 0.8028\n",
            "Epoch 7/100\n",
            "250/250 [==============================] - 0s 2ms/step - loss: 0.4430 - accuracy: 0.7906\n",
            "Epoch 8/100\n",
            "250/250 [==============================] - 0s 2ms/step - loss: 0.4280 - accuracy: 0.7974\n",
            "Epoch 9/100\n",
            "250/250 [==============================] - 0s 2ms/step - loss: 0.4325 - accuracy: 0.7918\n",
            "Epoch 10/100\n",
            "250/250 [==============================] - 0s 2ms/step - loss: 0.4126 - accuracy: 0.7941\n",
            "Epoch 11/100\n",
            "250/250 [==============================] - 0s 2ms/step - loss: 0.3983 - accuracy: 0.8131\n",
            "Epoch 12/100\n",
            "250/250 [==============================] - 0s 2ms/step - loss: 0.3847 - accuracy: 0.8334\n",
            "Epoch 13/100\n",
            "250/250 [==============================] - 0s 2ms/step - loss: 0.3790 - accuracy: 0.8364\n",
            "Epoch 14/100\n",
            "250/250 [==============================] - 0s 2ms/step - loss: 0.3736 - accuracy: 0.8413\n",
            "Epoch 15/100\n",
            "250/250 [==============================] - 0s 2ms/step - loss: 0.3609 - accuracy: 0.8490\n",
            "Epoch 16/100\n",
            "250/250 [==============================] - 0s 2ms/step - loss: 0.3580 - accuracy: 0.8478\n",
            "Epoch 17/100\n",
            "250/250 [==============================] - 0s 2ms/step - loss: 0.3502 - accuracy: 0.8547\n",
            "Epoch 18/100\n",
            "250/250 [==============================] - 0s 2ms/step - loss: 0.3544 - accuracy: 0.8478\n",
            "Epoch 19/100\n",
            "250/250 [==============================] - 0s 2ms/step - loss: 0.3477 - accuracy: 0.8546\n",
            "Epoch 20/100\n",
            "250/250 [==============================] - 0s 2ms/step - loss: 0.3506 - accuracy: 0.8502\n",
            "Epoch 21/100\n",
            "250/250 [==============================] - 0s 2ms/step - loss: 0.3396 - accuracy: 0.8579\n",
            "Epoch 22/100\n",
            "250/250 [==============================] - 0s 2ms/step - loss: 0.3513 - accuracy: 0.8527\n",
            "Epoch 23/100\n",
            "250/250 [==============================] - 0s 2ms/step - loss: 0.3427 - accuracy: 0.8629\n",
            "Epoch 24/100\n",
            "250/250 [==============================] - 0s 2ms/step - loss: 0.3454 - accuracy: 0.8570\n",
            "Epoch 25/100\n",
            "250/250 [==============================] - 0s 2ms/step - loss: 0.3440 - accuracy: 0.8563\n",
            "Epoch 26/100\n",
            "250/250 [==============================] - 0s 2ms/step - loss: 0.3406 - accuracy: 0.8554\n",
            "Epoch 27/100\n",
            "250/250 [==============================] - 0s 2ms/step - loss: 0.3438 - accuracy: 0.8557\n",
            "Epoch 28/100\n",
            "250/250 [==============================] - 0s 2ms/step - loss: 0.3390 - accuracy: 0.8585\n",
            "Epoch 29/100\n",
            "250/250 [==============================] - 0s 2ms/step - loss: 0.3321 - accuracy: 0.8633\n",
            "Epoch 30/100\n",
            "250/250 [==============================] - 0s 2ms/step - loss: 0.3458 - accuracy: 0.8583\n",
            "Epoch 31/100\n",
            "250/250 [==============================] - 0s 2ms/step - loss: 0.3399 - accuracy: 0.8580\n",
            "Epoch 32/100\n",
            "250/250 [==============================] - 0s 2ms/step - loss: 0.3274 - accuracy: 0.8669\n",
            "Epoch 33/100\n",
            "250/250 [==============================] - 0s 2ms/step - loss: 0.3408 - accuracy: 0.8554\n",
            "Epoch 34/100\n",
            "250/250 [==============================] - 0s 2ms/step - loss: 0.3496 - accuracy: 0.8536\n",
            "Epoch 35/100\n",
            "250/250 [==============================] - 0s 2ms/step - loss: 0.3386 - accuracy: 0.8624\n",
            "Epoch 36/100\n",
            "250/250 [==============================] - 0s 2ms/step - loss: 0.3566 - accuracy: 0.8565\n",
            "Epoch 37/100\n",
            "250/250 [==============================] - 0s 2ms/step - loss: 0.3451 - accuracy: 0.8590\n",
            "Epoch 38/100\n",
            "250/250 [==============================] - 0s 2ms/step - loss: 0.3413 - accuracy: 0.8604\n",
            "Epoch 39/100\n",
            "250/250 [==============================] - 0s 2ms/step - loss: 0.3354 - accuracy: 0.8618\n",
            "Epoch 40/100\n",
            "250/250 [==============================] - 0s 2ms/step - loss: 0.3406 - accuracy: 0.8599\n",
            "Epoch 41/100\n",
            "250/250 [==============================] - 0s 2ms/step - loss: 0.3383 - accuracy: 0.8583\n",
            "Epoch 42/100\n",
            "250/250 [==============================] - 0s 2ms/step - loss: 0.3417 - accuracy: 0.8576\n",
            "Epoch 43/100\n",
            "250/250 [==============================] - 0s 2ms/step - loss: 0.3373 - accuracy: 0.8658\n",
            "Epoch 44/100\n",
            "250/250 [==============================] - 0s 2ms/step - loss: 0.3344 - accuracy: 0.8596\n",
            "Epoch 45/100\n",
            "250/250 [==============================] - 0s 2ms/step - loss: 0.3491 - accuracy: 0.8557\n",
            "Epoch 46/100\n",
            "250/250 [==============================] - 0s 2ms/step - loss: 0.3466 - accuracy: 0.8580\n",
            "Epoch 47/100\n",
            "250/250 [==============================] - 0s 2ms/step - loss: 0.3415 - accuracy: 0.8592\n",
            "Epoch 48/100\n",
            "250/250 [==============================] - 0s 2ms/step - loss: 0.3435 - accuracy: 0.8588\n",
            "Epoch 49/100\n",
            "250/250 [==============================] - 0s 2ms/step - loss: 0.3373 - accuracy: 0.8633\n",
            "Epoch 50/100\n",
            "250/250 [==============================] - 0s 2ms/step - loss: 0.3353 - accuracy: 0.8628\n",
            "Epoch 51/100\n",
            "250/250 [==============================] - 0s 2ms/step - loss: 0.3439 - accuracy: 0.8614\n",
            "Epoch 52/100\n",
            "250/250 [==============================] - 0s 2ms/step - loss: 0.3301 - accuracy: 0.8679\n",
            "Epoch 53/100\n",
            "250/250 [==============================] - 0s 2ms/step - loss: 0.3414 - accuracy: 0.8579\n",
            "Epoch 54/100\n",
            "250/250 [==============================] - 0s 2ms/step - loss: 0.3328 - accuracy: 0.8637\n",
            "Epoch 55/100\n",
            "250/250 [==============================] - 0s 2ms/step - loss: 0.3411 - accuracy: 0.8592\n",
            "Epoch 56/100\n",
            "250/250 [==============================] - 0s 2ms/step - loss: 0.3394 - accuracy: 0.8628\n",
            "Epoch 57/100\n",
            "250/250 [==============================] - 0s 2ms/step - loss: 0.3341 - accuracy: 0.8607\n",
            "Epoch 58/100\n",
            "250/250 [==============================] - 0s 2ms/step - loss: 0.3205 - accuracy: 0.8733\n",
            "Epoch 59/100\n",
            "250/250 [==============================] - 0s 2ms/step - loss: 0.3488 - accuracy: 0.8525\n",
            "Epoch 60/100\n",
            "250/250 [==============================] - 0s 2ms/step - loss: 0.3371 - accuracy: 0.8640\n",
            "Epoch 61/100\n",
            "250/250 [==============================] - 0s 2ms/step - loss: 0.3270 - accuracy: 0.8628\n",
            "Epoch 62/100\n",
            "250/250 [==============================] - 0s 2ms/step - loss: 0.3328 - accuracy: 0.8653\n",
            "Epoch 63/100\n",
            "250/250 [==============================] - 0s 2ms/step - loss: 0.3342 - accuracy: 0.8651\n",
            "Epoch 64/100\n",
            "250/250 [==============================] - 0s 2ms/step - loss: 0.3357 - accuracy: 0.8606\n",
            "Epoch 65/100\n",
            "250/250 [==============================] - 0s 2ms/step - loss: 0.3231 - accuracy: 0.8673\n",
            "Epoch 66/100\n",
            "250/250 [==============================] - 0s 2ms/step - loss: 0.3415 - accuracy: 0.8612\n",
            "Epoch 67/100\n",
            "250/250 [==============================] - 0s 2ms/step - loss: 0.3270 - accuracy: 0.8694\n",
            "Epoch 68/100\n",
            "250/250 [==============================] - 0s 2ms/step - loss: 0.3362 - accuracy: 0.8621\n",
            "Epoch 69/100\n",
            "250/250 [==============================] - 0s 2ms/step - loss: 0.3366 - accuracy: 0.8615\n",
            "Epoch 70/100\n",
            "250/250 [==============================] - 0s 2ms/step - loss: 0.3306 - accuracy: 0.8649\n",
            "Epoch 71/100\n",
            "250/250 [==============================] - 0s 2ms/step - loss: 0.3268 - accuracy: 0.8680\n",
            "Epoch 72/100\n",
            "250/250 [==============================] - 0s 2ms/step - loss: 0.3324 - accuracy: 0.8641\n",
            "Epoch 73/100\n",
            "250/250 [==============================] - 0s 2ms/step - loss: 0.3380 - accuracy: 0.8592\n",
            "Epoch 74/100\n",
            "250/250 [==============================] - 0s 2ms/step - loss: 0.3443 - accuracy: 0.8570\n",
            "Epoch 75/100\n",
            "250/250 [==============================] - 0s 2ms/step - loss: 0.3367 - accuracy: 0.8582\n",
            "Epoch 76/100\n",
            "250/250 [==============================] - 0s 2ms/step - loss: 0.3336 - accuracy: 0.8587\n",
            "Epoch 77/100\n",
            "250/250 [==============================] - 0s 2ms/step - loss: 0.3353 - accuracy: 0.8619\n",
            "Epoch 78/100\n",
            "250/250 [==============================] - 0s 2ms/step - loss: 0.3460 - accuracy: 0.8558\n",
            "Epoch 79/100\n",
            "250/250 [==============================] - 0s 2ms/step - loss: 0.3441 - accuracy: 0.8566\n",
            "Epoch 80/100\n",
            "250/250 [==============================] - 0s 2ms/step - loss: 0.3214 - accuracy: 0.8665\n",
            "Epoch 81/100\n",
            "250/250 [==============================] - 0s 2ms/step - loss: 0.3437 - accuracy: 0.8612\n",
            "Epoch 82/100\n",
            "250/250 [==============================] - 0s 2ms/step - loss: 0.3413 - accuracy: 0.8613\n",
            "Epoch 83/100\n",
            "250/250 [==============================] - 0s 2ms/step - loss: 0.3442 - accuracy: 0.8624\n",
            "Epoch 84/100\n",
            "250/250 [==============================] - 0s 2ms/step - loss: 0.3440 - accuracy: 0.8568\n",
            "Epoch 85/100\n",
            "250/250 [==============================] - 0s 2ms/step - loss: 0.3342 - accuracy: 0.8615\n",
            "Epoch 86/100\n",
            "250/250 [==============================] - 0s 2ms/step - loss: 0.3314 - accuracy: 0.8616\n",
            "Epoch 87/100\n",
            "250/250 [==============================] - 0s 2ms/step - loss: 0.3251 - accuracy: 0.8644\n",
            "Epoch 88/100\n",
            "250/250 [==============================] - 0s 2ms/step - loss: 0.3345 - accuracy: 0.8596\n",
            "Epoch 89/100\n",
            "250/250 [==============================] - 0s 2ms/step - loss: 0.3451 - accuracy: 0.8565\n",
            "Epoch 90/100\n",
            "250/250 [==============================] - 0s 2ms/step - loss: 0.3286 - accuracy: 0.8604\n",
            "Epoch 91/100\n",
            "250/250 [==============================] - 0s 2ms/step - loss: 0.3296 - accuracy: 0.8640\n",
            "Epoch 92/100\n",
            "250/250 [==============================] - 0s 2ms/step - loss: 0.3314 - accuracy: 0.8638\n",
            "Epoch 93/100\n",
            "250/250 [==============================] - 0s 2ms/step - loss: 0.3344 - accuracy: 0.8610\n",
            "Epoch 94/100\n",
            "250/250 [==============================] - 0s 2ms/step - loss: 0.3304 - accuracy: 0.8622\n",
            "Epoch 95/100\n",
            "250/250 [==============================] - 0s 2ms/step - loss: 0.3208 - accuracy: 0.8656\n",
            "Epoch 96/100\n",
            "250/250 [==============================] - 0s 2ms/step - loss: 0.3370 - accuracy: 0.8578\n",
            "Epoch 97/100\n",
            "250/250 [==============================] - 0s 2ms/step - loss: 0.3450 - accuracy: 0.8557\n",
            "Epoch 98/100\n",
            "250/250 [==============================] - 0s 2ms/step - loss: 0.3400 - accuracy: 0.8569\n",
            "Epoch 99/100\n",
            "250/250 [==============================] - 0s 2ms/step - loss: 0.3331 - accuracy: 0.8637\n",
            "Epoch 100/100\n",
            "250/250 [==============================] - 0s 2ms/step - loss: 0.3282 - accuracy: 0.8632\n"
          ],
          "name": "stdout"
        },
        {
          "output_type": "execute_result",
          "data": {
            "text/plain": [
              "<tensorflow.python.keras.callbacks.History at 0x7f7cf407a090>"
            ]
          },
          "metadata": {
            "tags": []
          },
          "execution_count": 57
        }
      ]
    },
    {
      "cell_type": "markdown",
      "metadata": {
        "id": "1mryHTp6NA9O"
      },
      "source": [
        "That means the out of 100 observations, you have 86 correct predictions."
      ]
    },
    {
      "cell_type": "markdown",
      "metadata": {
        "id": "gUdPzr1wNVCh"
      },
      "source": [
        "## Part 4 - Marketing the predictions and evaluating the model"
      ]
    },
    {
      "cell_type": "markdown",
      "metadata": {
        "id": "44nrbkxpNc05"
      },
      "source": [
        "### Predicting the result of a single observation"
      ]
    },
    {
      "cell_type": "markdown",
      "metadata": {
        "id": "Hl4JWdqjNju1"
      },
      "source": [
        "**HomeWork**\n",
        "\n",
        "Use our ANN model to predict if the customer with the following informations we will leave the bank:\n",
        "\n",
        "Geography : France\n",
        "\n",
        "Credict Score : 600\n",
        "\n",
        "Gender : Male\n",
        "\n",
        "Age : 40 years old\n",
        "\n",
        "Tenure : 3 years\n",
        "\n",
        "Balance : $ 60000\n",
        "\n",
        "Number of Products : 2\n",
        "\n",
        "Does this customer have a credict card ? Yes\n",
        "\n",
        "Is this customer an Active Member : Yes\n",
        "\n",
        "Estimated Salary : $ 50000\n",
        "\n",
        "So, should we say goodbye to that customer?"
      ]
    },
    {
      "cell_type": "markdown",
      "metadata": {
        "id": "W5aDyv1nOBCs"
      },
      "source": [
        "**Solution**"
      ]
    },
    {
      "cell_type": "markdown",
      "metadata": {
        "id": "RYpm327BQXCg"
      },
      "source": [
        "Predict method should be called arnd observations on which the same scaling was applied as in the training.\n",
        "\n",
        "And since we trained our Artificial Neural Network with the scaled values, the scaled values of the features, the predict method has to be called on to these observations to which the same scaling was applied."
      ]
    },
    {
      "cell_type": "markdown",
      "metadata": {
        "id": "9vzFFeFZRCm-"
      },
      "source": [
        "Check if some scaling was applied during the training.\n",
        "\n",
        "It is always the case for Neural Networks.\n",
        "\n",
        "And therefore, in the predict method.\n",
        "\n",
        "We need to scale that single observation.\n",
        "\n",
        "And the way to do this is, of course, by calling our SC object\n",
        "\n",
        "Be careful not to fit transform because the fit transform is used to remember, get the mean and standard deviation of the values and training set in order to fit your scalar to the training set.\n",
        "\n",
        "But then for the test set, we only need to call the transfer method because if we fitted again the scalar, that would cause some information like it."
      ]
    },
    {
      "cell_type": "code",
      "metadata": {
        "colab": {
          "base_uri": "https://localhost:8080/"
        },
        "id": "ugFdcteoOHK-",
        "outputId": "3326fc39-dd91-4aa6-d82f-45baf63adf65"
      },
      "source": [
        "print(ann.predict(sc.transform([[1, 0, 0, 600, 1, 40, 3, 60000, 2, 1, 1, 50000]])) > 0.5)"
      ],
      "execution_count": 58,
      "outputs": [
        {
          "output_type": "stream",
          "text": [
            "[[False]]\n"
          ],
          "name": "stdout"
        }
      ]
    },
    {
      "cell_type": "markdown",
      "metadata": {
        "id": "j2wozHiRSJMa"
      },
      "source": [
        "Therefore, our ANN model predicts that this customer stay the bank!"
      ]
    },
    {
      "cell_type": "markdown",
      "metadata": {
        "id": "V25th28tTAzj"
      },
      "source": [
        "**Important note 1** : Notice that values of the features were all input in a double pair of square brackets. That's because the \"predict\" method always expects a 2D array as the format of its inputs. And putting our values into a double pair of square brackets makes the input exactly a 2D array."
      ]
    },
    {
      "cell_type": "markdown",
      "metadata": {
        "id": "wCE4_p9nTkwe"
      },
      "source": [
        "**Important note 2** : Notice also that the \"France\" country was not input as a string in the last column but as \"1, 0, 0\" in the first three columns.\n",
        "\n",
        "That's because of course the predict method expects the one-hot-encoded values of the state, and as we see in the first row of the matrix of features X, \"France\" was encode as \"1, 0, 0\". And be careful to include these values in the first three columns, because the dummy variables are always created in the first columns."
      ]
    },
    {
      "cell_type": "markdown",
      "metadata": {
        "id": "4Cz1vZ1ST_vB"
      },
      "source": [
        "### Predicting the Test set results"
      ]
    },
    {
      "cell_type": "code",
      "metadata": {
        "colab": {
          "base_uri": "https://localhost:8080/"
        },
        "id": "89ElY9bUUCL0",
        "outputId": "03709784-6318-4fc9-969b-34c1fb64b441"
      },
      "source": [
        "y_pred = ann.predict(X_test)\n",
        "y_pred = (y_pred > 0.5)\n",
        "print(np.concatenate((y_pred.reshape(len(y_pred), 1), y_test.reshape(len(y_test), 1)), 1))"
      ],
      "execution_count": 59,
      "outputs": [
        {
          "output_type": "stream",
          "text": [
            "[[0 0]\n",
            " [0 1]\n",
            " [0 0]\n",
            " ...\n",
            " [0 0]\n",
            " [0 0]\n",
            " [0 0]]\n"
          ],
          "name": "stdout"
        }
      ]
    },
    {
      "cell_type": "markdown",
      "metadata": {
        "id": "0MIkS6emUulA"
      },
      "source": [
        "### Making the Confusion Matrix"
      ]
    },
    {
      "cell_type": "markdown",
      "metadata": {
        "id": "Zsg41i0HU0hz"
      },
      "source": [
        "**The computation of the accuracy**"
      ]
    },
    {
      "cell_type": "code",
      "metadata": {
        "colab": {
          "base_uri": "https://localhost:8080/"
        },
        "id": "loeOiaitVsb4",
        "outputId": "d94aa2d9-36fd-4ab1-82dc-52fa5f29ac00"
      },
      "source": [
        "from sklearn.metrics import confusion_matrix, accuracy_score\n",
        "cm = confusion_matrix(y_test, y_pred)\n",
        "print(cm)\n",
        "accuracy_score(y_test, y_pred)"
      ],
      "execution_count": 60,
      "outputs": [
        {
          "output_type": "stream",
          "text": [
            "[[1505   90]\n",
            " [ 192  213]]\n"
          ],
          "name": "stdout"
        },
        {
          "output_type": "execute_result",
          "data": {
            "text/plain": [
              "0.859"
            ]
          },
          "metadata": {
            "tags": []
          },
          "execution_count": 60
        }
      ]
    },
    {
      "cell_type": "markdown",
      "metadata": {
        "id": "DIcxOVI2V5i0"
      },
      "source": [
        "We had 1505 correct predictions that the customer stays in the bank.\n",
        "\n",
        "Then we had 213. Correct predictions that the customer leaves the bank.\n",
        "\n",
        "Then we have 90 incorrect predictions that the customer leaves the bank.\n",
        "\n",
        "And 192 incorrect predictions that the customer stays in the bank.\n",
        "\n",
        "\n",
        "Accuracy of 85 percent is a very decent accuracy."
      ]
    },
    {
      "cell_type": "code",
      "metadata": {
        "id": "hHBO92miXHca"
      },
      "source": [
        ""
      ],
      "execution_count": null,
      "outputs": []
    }
  ]
}